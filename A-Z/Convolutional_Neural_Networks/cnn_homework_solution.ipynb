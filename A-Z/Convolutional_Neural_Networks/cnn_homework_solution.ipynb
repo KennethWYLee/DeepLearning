{
 "cells": [
  {
   "cell_type": "code",
   "execution_count": 1,
   "metadata": {},
   "outputs": [
    {
     "name": "stderr",
     "output_type": "stream",
     "text": [
      "Using TensorFlow backend.\n"
     ]
    }
   ],
   "source": [
    "import tensorflow as tf\n",
    "gpu_options = tf.GPUOptions(per_process_gpu_memory_fraction=0.33)  \n",
    "sess = tf.Session(config=tf.ConfigProto(gpu_options=gpu_options)) \n",
    "# keras 或 tensorflow 调用GPU报错：Blas GEMM launch failed\n",
    "# https://blog.csdn.net/Leo_Xu06/article/details/82023330\n",
    "import tensorflow as tf\n",
    "from keras.backend.tensorflow_backend import set_session\n",
    "config = tf.ConfigProto()\n",
    "config.gpu_options.allocator_type = 'BFC' #A \"Best-fit with coalescing\" algorithm, simplified from a version of dlmalloc.\n",
    "config.gpu_options.per_process_gpu_memory_fraction = 0.3\n",
    "config.gpu_options.allow_growth = True\n",
    "set_session(tf.Session(config=config)) "
   ]
  },
  {
   "cell_type": "code",
   "execution_count": 2,
   "metadata": {},
   "outputs": [],
   "source": [
    "# Convolutional Neural Network\n",
    "\n",
    "# Installing Theano\n",
    "# pip install --upgrade --no-deps git+git://github.com/Theano/Theano.git\n",
    "\n",
    "# Installing Tensorflow\n",
    "# pip install tensorflow\n",
    "\n",
    "# Installing Keras\n",
    "# pip install --upgrade keras\n",
    "\n",
    "# Part 1 - Building the CNN\n",
    "\n",
    "# Importing the Keras libraries and packages\n",
    "from keras.models import Sequential\n",
    "from keras.layers import Conv2D\n",
    "from keras.layers import MaxPooling2D\n",
    "from keras.layers import Flatten\n",
    "from keras.layers import Dense\n",
    "\n",
    "# Initialising the CNN\n",
    "classifier = Sequential()\n",
    "\n",
    "# Step 1 - Convolution\n",
    "classifier.add(Conv2D(32, (3, 3), input_shape = (64, 64, 3), activation = 'relu'))\n",
    "\n",
    "# Step 2 - Pooling\n",
    "classifier.add(MaxPooling2D(pool_size = (2, 2)))\n",
    "\n",
    "# Adding a second convolutional layer\n",
    "classifier.add(Conv2D(32, (3, 3), activation = 'relu'))\n",
    "classifier.add(MaxPooling2D(pool_size = (2, 2)))\n",
    "\n",
    "# Step 3 - Flattening\n",
    "classifier.add(Flatten())\n",
    "\n",
    "# Step 4 - Full connection\n",
    "classifier.add(Dense(units = 128, activation = 'relu'))\n",
    "classifier.add(Dense(units = 1, activation = 'sigmoid'))\n",
    "\n",
    "# Compiling the CNN\n",
    "classifier.compile(optimizer = 'adam', loss = 'binary_crossentropy', metrics = ['accuracy'])"
   ]
  },
  {
   "cell_type": "code",
   "execution_count": 3,
   "metadata": {},
   "outputs": [
    {
     "name": "stdout",
     "output_type": "stream",
     "text": [
      "Found 8000 images belonging to 2 classes.\n",
      "Found 2000 images belonging to 2 classes.\n",
      "Epoch 1/25\n",
      "8000/8000 [==============================] - 895s 112ms/step - loss: 0.3712 - acc: 0.8259 - val_loss: 0.5617 - val_acc: 0.8078\n",
      "Epoch 2/25\n",
      "8000/8000 [==============================] - 848s 106ms/step - loss: 0.1250 - acc: 0.9516 - val_loss: 0.7730 - val_acc: 0.8097\n",
      "Epoch 3/25\n",
      "8000/8000 [==============================] - 847s 106ms/step - loss: 0.0613 - acc: 0.9780 - val_loss: 0.9484 - val_acc: 0.8145\n",
      "Epoch 4/25\n",
      "8000/8000 [==============================] - 846s 106ms/step - loss: 0.0441 - acc: 0.9845 - val_loss: 1.1412 - val_acc: 0.8015\n",
      "Epoch 5/25\n",
      "8000/8000 [==============================] - 846s 106ms/step - loss: 0.0348 - acc: 0.9880 - val_loss: 1.2714 - val_acc: 0.8055\n",
      "Epoch 6/25\n",
      "8000/8000 [==============================] - 847s 106ms/step - loss: 0.0289 - acc: 0.9902 - val_loss: 1.3240 - val_acc: 0.8039\n",
      "Epoch 7/25\n",
      "8000/8000 [==============================] - 846s 106ms/step - loss: 0.0262 - acc: 0.9911 - val_loss: 1.2907 - val_acc: 0.8027\n",
      "Epoch 8/25\n",
      "8000/8000 [==============================] - 848s 106ms/step - loss: 0.0213 - acc: 0.9929 - val_loss: 1.2837 - val_acc: 0.8058\n",
      "Epoch 9/25\n",
      "8000/8000 [==============================] - 848s 106ms/step - loss: 0.0195 - acc: 0.9936 - val_loss: 1.4544 - val_acc: 0.8031\n",
      "Epoch 10/25\n",
      "8000/8000 [==============================] - 847s 106ms/step - loss: 0.0182 - acc: 0.9940 - val_loss: 1.3076 - val_acc: 0.8098\n",
      "Epoch 11/25\n",
      "8000/8000 [==============================] - 847s 106ms/step - loss: 0.0163 - acc: 0.9945 - val_loss: 1.6129 - val_acc: 0.7940\n",
      "Epoch 12/25\n",
      "8000/8000 [==============================] - 847s 106ms/step - loss: 0.0149 - acc: 0.9950 - val_loss: 1.4384 - val_acc: 0.8072\n",
      "Epoch 13/25\n",
      "8000/8000 [==============================] - 848s 106ms/step - loss: 0.0137 - acc: 0.9955 - val_loss: 1.3774 - val_acc: 0.8064\n",
      "Epoch 14/25\n",
      "8000/8000 [==============================] - 847s 106ms/step - loss: 0.0130 - acc: 0.9958 - val_loss: 1.4753 - val_acc: 0.7896\n",
      "Epoch 15/25\n",
      "8000/8000 [==============================] - 847s 106ms/step - loss: 0.0121 - acc: 0.9960 - val_loss: 1.5390 - val_acc: 0.7945\n",
      "Epoch 16/25\n",
      "8000/8000 [==============================] - 846s 106ms/step - loss: 0.0113 - acc: 0.9962 - val_loss: 1.7618 - val_acc: 0.7781\n",
      "Epoch 17/25\n",
      "8000/8000 [==============================] - 846s 106ms/step - loss: 0.0106 - acc: 0.9966 - val_loss: 1.5103 - val_acc: 0.8064\n",
      "Epoch 18/25\n",
      "8000/8000 [==============================] - 847s 106ms/step - loss: 0.0113 - acc: 0.9964 - val_loss: 1.6364 - val_acc: 0.7986\n",
      "Epoch 19/25\n",
      "8000/8000 [==============================] - 847s 106ms/step - loss: 0.0100 - acc: 0.9968 - val_loss: 1.5765 - val_acc: 0.8035\n",
      "Epoch 20/25\n",
      "8000/8000 [==============================] - 847s 106ms/step - loss: 0.0088 - acc: 0.9971 - val_loss: 1.6996 - val_acc: 0.7965\n",
      "Epoch 21/25\n",
      "8000/8000 [==============================] - 848s 106ms/step - loss: 0.0090 - acc: 0.9972 - val_loss: 1.6222 - val_acc: 0.7990\n",
      "Epoch 22/25\n",
      "8000/8000 [==============================] - 846s 106ms/step - loss: 0.0089 - acc: 0.9972 - val_loss: 1.5991 - val_acc: 0.8093\n",
      "Epoch 23/25\n",
      "8000/8000 [==============================] - 846s 106ms/step - loss: 0.0082 - acc: 0.9974 - val_loss: 1.6160 - val_acc: 0.8045\n",
      "Epoch 24/25\n",
      "8000/8000 [==============================] - 846s 106ms/step - loss: 0.0085 - acc: 0.9975 - val_loss: 1.7194 - val_acc: 0.8064\n",
      "Epoch 25/25\n",
      "8000/8000 [==============================] - 846s 106ms/step - loss: 0.0078 - acc: 0.9975 - val_loss: 1.6947 - val_acc: 0.8074s - loss: 0.0\n"
     ]
    },
    {
     "data": {
      "text/plain": [
       "<keras.callbacks.History at 0x1d6095c1438>"
      ]
     },
     "execution_count": 3,
     "metadata": {},
     "output_type": "execute_result"
    }
   ],
   "source": [
    "# Part 2 - Fitting the CNN to the images\n",
    "\n",
    "from keras.preprocessing.image import ImageDataGenerator\n",
    "\n",
    "train_datagen = ImageDataGenerator(rescale = 1./255,\n",
    "                                   shear_range = 0.2,\n",
    "                                   zoom_range = 0.2,\n",
    "                                   horizontal_flip = True)\n",
    "\n",
    "test_datagen = ImageDataGenerator(rescale = 1./255)\n",
    "\n",
    "training_set = train_datagen.flow_from_directory('dataset/training_set',\n",
    "                                                 target_size = (64, 64),\n",
    "                                                 batch_size = 32,\n",
    "                                                 class_mode = 'binary')\n",
    "\n",
    "test_set = test_datagen.flow_from_directory('dataset/test_set',\n",
    "                                            target_size = (64, 64),\n",
    "                                            batch_size = 32,\n",
    "                                            class_mode = 'binary')\n",
    "\n",
    "classifier.fit_generator(training_set,\n",
    "                         steps_per_epoch = 8000,\n",
    "                         epochs = 25,\n",
    "                         validation_data = test_set,\n",
    "                         validation_steps = 2000)"
   ]
  },
  {
   "cell_type": "code",
   "execution_count": 4,
   "metadata": {},
   "outputs": [],
   "source": [
    "# Part 3 - Making new predictions\n",
    "\n",
    "import numpy as np\n",
    "from keras.preprocessing import image\n",
    "test_image = image.load_img('dataset/single_prediction/cat_or_dog_1.jpg', target_size = (64, 64))\n",
    "test_image = image.img_to_array(test_image)\n",
    "test_image = np.expand_dims(test_image, axis = 0)\n",
    "result = classifier.predict(test_image)\n",
    "training_set.class_indices\n",
    "if result[0][0] == 1:\n",
    "    prediction = 'dog'\n",
    "else:\n",
    "    prediction = 'cat'"
   ]
  },
  {
   "cell_type": "code",
   "execution_count": null,
   "metadata": {},
   "outputs": [],
   "source": []
  }
 ],
 "metadata": {
  "kernelspec": {
   "display_name": "Python 3",
   "language": "python",
   "name": "python3"
  },
  "language_info": {
   "codemirror_mode": {
    "name": "ipython",
    "version": 3
   },
   "file_extension": ".py",
   "mimetype": "text/x-python",
   "name": "python",
   "nbconvert_exporter": "python",
   "pygments_lexer": "ipython3",
   "version": "3.6.8"
  }
 },
 "nbformat": 4,
 "nbformat_minor": 2
}
