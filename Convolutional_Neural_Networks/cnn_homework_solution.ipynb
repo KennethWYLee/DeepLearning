{
 "cells": [
  {
   "cell_type": "code",
   "execution_count": 1,
   "metadata": {},
   "outputs": [
    {
     "name": "stderr",
     "output_type": "stream",
     "text": [
      "Using TensorFlow backend.\n"
     ]
    }
   ],
   "source": [
    "import tensorflow as tf\n",
    "gpu_options = tf.GPUOptions(per_process_gpu_memory_fraction=0.33)  \n",
    "sess = tf.Session(config=tf.ConfigProto(gpu_options=gpu_options)) \n",
    "# keras 或 tensorflow 调用GPU报错：Blas GEMM launch failed\n",
    "# https://blog.csdn.net/Leo_Xu06/article/details/82023330\n",
    "import tensorflow as tf\n",
    "from keras.backend.tensorflow_backend import set_session\n",
    "config = tf.ConfigProto()\n",
    "config.gpu_options.allocator_type = 'BFC' #A \"Best-fit with coalescing\" algorithm, simplified from a version of dlmalloc.\n",
    "config.gpu_options.per_process_gpu_memory_fraction = 0.3\n",
    "config.gpu_options.allow_growth = True\n",
    "set_session(tf.Session(config=config)) "
   ]
  },
  {
   "cell_type": "code",
   "execution_count": 2,
   "metadata": {},
   "outputs": [],
   "source": [
    "# Convolutional Neural Network\n",
    "\n",
    "# Installing Theano\n",
    "# pip install --upgrade --no-deps git+git://github.com/Theano/Theano.git\n",
    "\n",
    "# Installing Tensorflow\n",
    "# pip install tensorflow\n",
    "\n",
    "# Installing Keras\n",
    "# pip install --upgrade keras\n",
    "\n",
    "# Part 1 - Building the CNN\n",
    "\n",
    "# Importing the Keras libraries and packages\n",
    "from keras.models import Sequential\n",
    "from keras.layers import Conv2D\n",
    "from keras.layers import MaxPooling2D\n",
    "from keras.layers import Flatten\n",
    "from keras.layers import Dense\n",
    "\n",
    "# Initialising the CNN\n",
    "classifier = Sequential()\n",
    "\n",
    "# Step 1 - Convolution\n",
    "classifier.add(Conv2D(32, (3, 3), input_shape = (64, 64, 3), activation = 'relu'))\n",
    "\n",
    "# Step 2 - Pooling\n",
    "classifier.add(MaxPooling2D(pool_size = (2, 2)))\n",
    "\n",
    "# Adding a second convolutional layer\n",
    "classifier.add(Conv2D(32, (3, 3), activation = 'relu'))\n",
    "classifier.add(MaxPooling2D(pool_size = (2, 2)))\n",
    "\n",
    "# Step 3 - Flattening\n",
    "classifier.add(Flatten())\n",
    "\n",
    "# Step 4 - Full connection\n",
    "classifier.add(Dense(units = 128, activation = 'relu'))\n",
    "classifier.add(Dense(units = 1, activation = 'sigmoid'))\n",
    "\n",
    "# Compiling the CNN\n",
    "classifier.compile(optimizer = 'adam', loss = 'binary_crossentropy', metrics = ['accuracy'])"
   ]
  },
  {
   "cell_type": "code",
   "execution_count": 3,
   "metadata": {},
   "outputs": [
    {
     "name": "stdout",
     "output_type": "stream",
     "text": [
      "Found 8000 images belonging to 2 classes.\n",
      "Found 2000 images belonging to 2 classes.\n",
      "Epoch 1/25\n",
      "8000/8000 [==============================] - 868s 109ms/step - loss: 0.3566 - acc: 0.8336 - val_loss: 0.6140 - val_acc: 0.7856\n",
      "Epoch 2/25\n",
      "8000/8000 [==============================] - 832s 104ms/step - loss: 0.1078 - acc: 0.9591 - val_loss: 0.9303 - val_acc: 0.8063\n",
      "Epoch 3/25\n",
      "8000/8000 [==============================] - 865s 108ms/step - loss: 0.0539 - acc: 0.9810 - val_loss: 1.1860 - val_acc: 0.8001\n",
      "Epoch 4/25\n",
      "8000/8000 [==============================] - 849s 106ms/step - loss: 0.0385 - acc: 0.9868 - val_loss: 1.1963 - val_acc: 0.8122oss: 0.0385 - acc: 0.98\n",
      "Epoch 5/25\n",
      "8000/8000 [==============================] - 857s 107ms/step - loss: 0.0314 - acc: 0.9895 - val_loss: 1.2988 - val_acc: 0.8010s: 0. -  - ETA: 3s - loss: 0.0314 - - ETA: 2s - \n",
      "Epoch 6/25\n",
      "8000/8000 [==============================] - 857s 107ms/step - loss: 0.0258 - acc: 0.9913 - val_loss: 1.3859 - val_acc: 0.8000 loss: 0.0259 - acc: 0.99 - ETA: 8s - loss: 0.0259 - acc: - ETA: 7s - loss: 0.0259 - - ETA: 6s - loss: 0.0259 -  - ETA: 5s - lo\n",
      "Epoch 7/25\n",
      "8000/8000 [==============================] - 854s 107ms/step - loss: 0.0228 - acc: 0.9926 - val_loss: 1.4461 - val_acc: 0.7914\n",
      "Epoch 8/25\n",
      "8000/8000 [==============================] - 833s 104ms/step - loss: 0.0199 - acc: 0.9937 - val_loss: 1.4044 - val_acc: 0.8090\n",
      "Epoch 9/25\n",
      "8000/8000 [==============================] - 833s 104ms/step - loss: 0.0183 - acc: 0.9941 - val_loss: 1.4793 - val_acc: 0.8095\n",
      "Epoch 10/25\n",
      "8000/8000 [==============================] - 846s 106ms/step - loss: 0.0152 - acc: 0.9951 - val_loss: 1.4643 - val_acc: 0.8099\n",
      "Epoch 11/25\n",
      "8000/8000 [==============================] - 847s 106ms/step - loss: 0.0152 - acc: 0.9952 - val_loss: 1.4465 - val_acc: 0.8176\n",
      "Epoch 12/25\n",
      "8000/8000 [==============================] - 838s 105ms/step - loss: 0.0145 - acc: 0.9955 - val_loss: 1.5253 - val_acc: 0.7982\n",
      "Epoch 13/25\n",
      "8000/8000 [==============================] - 835s 104ms/step - loss: 0.0134 - acc: 0.9958 - val_loss: 1.6136 - val_acc: 0.80540.0133 - acc:  - ETA: 2s - l\n",
      "Epoch 14/25\n",
      "8000/8000 [==============================] - 858s 107ms/step - loss: 0.0119 - acc: 0.9963 - val_loss: 1.4968 - val_acc: 0.80201 - acc: 0  - ETA: 3:57 - loss: 0.0121 - acc: 0.99 - ETA: 3:57  - ETA: 2:31 - loss: 0.0120 - acc - ETA: 2:30 - loss:  - ETA: 9s - loss: 0.0119 - acc - ETA: 8s - lo - ETA: 2s - \n",
      "Epoch 15/25\n",
      "8000/8000 [==============================] - 859s 107ms/step - loss: 0.0113 - acc: 0.9964 - val_loss: 1.6967 - val_acc: 0.7945.0112 - - ETA: 6s - loss: 0.0112 - ETA: 2s - loss\n",
      "Epoch 16/25\n",
      "8000/8000 [==============================] - 858s 107ms/step - loss: 0.0106 - acc: 0.9968 - val_loss: 1.5971 - val_acc: 0.8010 ETA: 5:51 - loss: 0.0113  - ETA: 5:50 - loss: 0.0113  - ETA: 5:30 - loss: 0.0112 - acc: 0.99  - ETA: 4:52 - loss: 0.0 - ETA: 4:50 - los - ETA: 4:48 - loss: 0.0107 - acc: 0.9 - ETA - ETA: 4:45 - los - ETA: 4:42 - loss: 0.0107 -  - ETA: 4:30 - loss: 0.0107 - acc: 0.  - ETA: 4:26 - loss:  - ETA: 4:24 - l - ETA: 1s - loss: 0.0106 \n",
      "Epoch 17/25\n",
      "8000/8000 [==============================] - 858s 107ms/step - loss: 0.0107 - acc: 0.9968 - val_loss: 1.5814 - val_acc: 0.8065\n",
      "Epoch 18/25\n",
      "8000/8000 [==============================] - 858s 107ms/step - loss: 0.0100 - acc: 0.9971 - val_loss: 1.5823 - val_acc: 0.8053A: 9:49 - loss: 0.0072 - - ETA: 9:48 - loss: 0.0 - ETA: 9:46 - loss: 0.007 - ETA: 9:45 - loss: 0.0075 - a - ETA: 9:40 - loss: 0 - ETA: 9:39 - loss: 0.0079 - acc: 0. - ETA: 9:38 -  - ETA: 9:21 - loss: 0.0077 - acc:  - ETA: 9:17 - loss: 0.0080 - acc: - ETA - ET - ETA: 8:58 - loss: 0.0081  - ETA: 8:57 - loss: 0.0081 -  - ETA: 8:56 - loss: 0.0081 - acc: 0. - ETA: 8:56 - los - ETA: 8:54 - ETA: 8:51 - loss: 0. - ETA: 8:49 - loss: 0.0082 - acc: - ETA: 7:45 - loss: 0.0094 -  - ETA: 7:44 - loss: 0.0095 - acc: 0.9 - ETA: 7:43  - ETA: - ETA: 7:30 - loss: 0.0094 - - ETA: 7:29 - - ETA: 7:23 - loss:  - ETA: 7:21 -  - ETA: 7:19 - loss: 0. - E - ETA: 7:10 - loss: 0.009 - ETA: 7:04 - - ETA: 7:02 - loss: 0.0094 - ETA: 2:46 - ETA: 2:44 - loss: 0.0098 - - ETA: 2:43 - loss: 0.009 - ETA: 2:37 - loss: 0. - ETA: 2:32 - loss\n",
      "Epoch 19/25\n",
      "8000/8000 [==============================] - 858s 107ms/step - loss: 0.0085 - acc: 0.9973 - val_loss: 1.6809 - val_acc: 0.81110080 - acc - ETA: 8:47 - loss: 0.0081 - acc: - ETA: 8 - ETA: 8:32  - ETA: 8:29 - loss:  - ETA: 8:16 - loss: 0 - ETA: 8:11 - loss: 0.0082 - a - ETA: 8:10 - loss: 0.0082 - acc: 0. - ETA: 8:09 - loss: 0.0  - ETA: 7:57 - loss: 0.008 - ETA: 7:55 - loss: 0. - ETA: 7:50 - loss: 0.0080 - acc: 0. - ETA: 7:49 - loss: 0.0080  - ETA: 7 - ETA: 7 - ETA: 7:38 - loss: 0.0083 -  - ETA: 7:37 - loss: 0.0083 - acc - ETA: 7:37  - ETA: 7:27 - - ETA: 1s - loss: 0.008\n",
      "Epoch 20/25\n",
      "8000/8000 [==============================] - 856s 107ms/step - loss: 0.0093 - acc: 0.9972 - val_loss: 1.7884 - val_acc: 0.808354 - ETA: 8:51 - l - ETA: 8:45 - lo - ETA: 5:00 - loss: 0.00 - ETA: 4:5 - ETA: 4:55 - loss: 0.0092 - - ETA:  - ETA: 4:51 - loss: 0.0092 - acc:  - ETA: 4:51 - loss: 0.0091 - acc: 0.997 -  - ETA: 8s - loss: 0.009 - ETA: 7s - loss: 0.0093 - acc:  - ETA: 6s - loss: 0.0093 - acc: 0.9 - ETA: 6s \n",
      "Epoch 21/25\n",
      "8000/8000 [==============================] - 858s 107ms/step - loss: 0.0087 - acc: 0.9975 - val_loss: 1.8715 - val_acc: 0.7967\n",
      "Epoch 22/25\n",
      "8000/8000 [==============================] - 860s 107ms/step - loss: 0.0083 - acc: 0.9975 - val_loss: 1.7812 - val_acc: 0.8036 ETA - \n",
      "Epoch 23/25\n",
      "8000/8000 [==============================] - 856s 107ms/step - loss: 0.0084 - acc: 0.9975 - val_loss: 1.8899 - val_acc: 0.8009: 9:35 - loss: 0.0086 - acc: 0 - ETA: 9:35 - loss: 0.0086 -  - ETA: 9:34 - loss: 0.0087 -  - ETA: 9:33 - loss: 0.0 - ETA: 9:31 - loss: 0 - ETA: 9:29 - loss: - ETA: 9:16 - loss: 0.0083 - ac - ETA: 10s -  - ETA: 9s - loss: 0.0 - ETA: 4s - loss: 0.0083 - a - ETA: 3s - loss: 0 - ETA: 1s - loss: 0.0083  - ETA: 0s - loss: 0.0084 - acc: 0\n",
      "Epoch 24/25\n",
      "8000/8000 [==============================] - 857s 107ms/step - loss: 0.0082 - acc: 0.9976 - val_loss: 1.7423 - val_acc: 0.806618 - loss: 0. - ETA: 9:17 - lo - ETA: 9 - ETA: 9:12 - ETA: 8:3 - ETA: 7:02 - loss - ETA: - ETA: 6:57 - loss: 0.00 - ETA: 6:55 - loss: 0.0084 - acc: 0.997 - ETA: 6:55 - loss: 0.0084 - - ETA: 6:54 - los - ETA - ETA: 2:57 - lo - ETA - ETA: 2:51 - lo - ETA: 2:45 - loss: 0 - ETA: 2:44 - loss: -  - ETA: 8s - loss: 0.0082 - ETA: 7 - ETA: 0s - loss: 0.0082 - acc\n",
      "Epoch 25/25\n",
      "8000/8000 [==============================] - 857s 107ms/step - loss: 0.0079 - acc: 0.9977 - val_loss: 1.6823 - val_acc: 0.8025A: 6:3 - ET - ETA: 5:12 - loss: 0.0078 - acc: 0.99  - ETA: 2s - los\n"
     ]
    },
    {
     "data": {
      "text/plain": [
       "<keras.callbacks.History at 0x275865f5ac8>"
      ]
     },
     "execution_count": 3,
     "metadata": {},
     "output_type": "execute_result"
    }
   ],
   "source": [
    "# Part 2 - Fitting the CNN to the images\n",
    "\n",
    "from keras.preprocessing.image import ImageDataGenerator\n",
    "\n",
    "train_datagen = ImageDataGenerator(rescale = 1./255,\n",
    "                                   shear_range = 0.2,\n",
    "                                   zoom_range = 0.2,\n",
    "                                   horizontal_flip = True)\n",
    "\n",
    "test_datagen = ImageDataGenerator(rescale = 1./255)\n",
    "\n",
    "training_set = train_datagen.flow_from_directory('dataset/training_set',\n",
    "                                                 target_size = (64, 64),\n",
    "                                                 batch_size = 32,\n",
    "                                                 class_mode = 'binary')\n",
    "\n",
    "test_set = test_datagen.flow_from_directory('dataset/test_set',\n",
    "                                            target_size = (64, 64),\n",
    "                                            batch_size = 32,\n",
    "                                            class_mode = 'binary')\n",
    "\n",
    "classifier.fit_generator(training_set,\n",
    "                         steps_per_epoch = 8000,\n",
    "                         epochs = 25,\n",
    "                         validation_data = test_set,\n",
    "                         validation_steps = 2000)"
   ]
  },
  {
   "cell_type": "code",
   "execution_count": 4,
   "metadata": {},
   "outputs": [],
   "source": [
    "# Part 3 - Making new predictions\n",
    "\n",
    "import numpy as np\n",
    "from keras.preprocessing import image\n",
    "test_image = image.load_img('dataset/single_prediction/cat_or_dog_1.jpg', target_size = (64, 64))\n",
    "test_image = image.img_to_array(test_image)\n",
    "test_image = np.expand_dims(test_image, axis = 0)\n",
    "result = classifier.predict(test_image)\n",
    "training_set.class_indices\n",
    "if result[0][0] == 1:\n",
    "    prediction = 'dog'\n",
    "else:\n",
    "    prediction = 'cat'"
   ]
  },
  {
   "cell_type": "code",
   "execution_count": null,
   "metadata": {},
   "outputs": [],
   "source": []
  }
 ],
 "metadata": {
  "kernelspec": {
   "display_name": "Python 3",
   "language": "python",
   "name": "python3"
  },
  "language_info": {
   "codemirror_mode": {
    "name": "ipython",
    "version": 3
   },
   "file_extension": ".py",
   "mimetype": "text/x-python",
   "name": "python",
   "nbconvert_exporter": "python",
   "pygments_lexer": "ipython3",
   "version": "3.6.8"
  }
 },
 "nbformat": 4,
 "nbformat_minor": 2
}
