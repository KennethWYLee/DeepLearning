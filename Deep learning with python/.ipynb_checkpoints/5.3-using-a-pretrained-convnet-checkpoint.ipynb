{
 "cells": [
  {
   "cell_type": "code",
   "execution_count": 1,
   "metadata": {},
   "outputs": [
    {
     "name": "stderr",
     "output_type": "stream",
     "text": [
      "Using TensorFlow backend.\n"
     ]
    }
   ],
   "source": [
    "import tensorflow as tf\n",
    "gpu_options = tf.GPUOptions(per_process_gpu_memory_fraction=0.33)  \n",
    "sess = tf.Session(config=tf.ConfigProto(gpu_options=gpu_options)) \n",
    "# keras 或 tensorflow 调用GPU报错：Blas GEMM launch failed\n",
    "# https://blog.csdn.net/Leo_Xu06/article/details/82023330\n",
    "import tensorflow as tf\n",
    "from keras.backend.tensorflow_backend import set_session\n",
    "config = tf.ConfigProto()\n",
    "config.gpu_options.allocator_type = 'BFC' #A \"Best-fit with coalescing\" algorithm, simplified from a version of dlmalloc.\n",
    "config.gpu_options.per_process_gpu_memory_fraction = 0.3\n",
    "config.gpu_options.allow_growth = True\n",
    "set_session(tf.Session(config=config)) "
   ]
  },
  {
   "cell_type": "code",
   "execution_count": 2,
   "metadata": {},
   "outputs": [
    {
     "data": {
      "text/plain": [
       "'2.2.4'"
      ]
     },
     "execution_count": 2,
     "metadata": {},
     "output_type": "execute_result"
    }
   ],
   "source": [
    "import keras\n",
    "keras.__version__"
   ]
  },
  {
   "cell_type": "markdown",
   "metadata": {},
   "source": [
    "# Using a pre-trained convnet\n",
    "\n",
    "This notebook contains the code sample found in Chapter 5, Section 3 of [Deep Learning with Python](https://www.manning.com/books/deep-learning-with-python?a_aid=keras&a_bid=76564dff). Note that the original text features far more content, in particular further explanations and figures: in this notebook, you will only find source code and related comments.\n",
    "\n",
    "----\n",
    "\n",
    "A common and highly effective approach to deep learning on small image datasets is to leverage a pre-trained network. A pre-trained network \n",
    "is simply a saved network previously trained on a large dataset, typically on a large-scale image classification task. If this original \n",
    "dataset is large enough and general enough, then the spatial feature hierarchy learned by the pre-trained network can effectively act as a \n",
    "generic model of our visual world, and hence its features can prove useful for many different computer vision problems, even though these \n",
    "new problems might involve completely different classes from those of the original task. For instance, one might train a network on \n",
    "ImageNet (where classes are mostly animals and everyday objects) and then re-purpose this trained network for something as remote as \n",
    "identifying furniture items in images. Such portability of learned features across different problems is a key advantage of deep learning \n",
    "compared to many older shallow learning approaches, and it makes deep learning very effective for small-data problems.\n",
    "\n",
    "In our case, we will consider a large convnet trained on the ImageNet dataset (1.4 million labeled images and 1000 different classes). \n",
    "ImageNet contains many animal classes, including different species of cats and dogs, and we can thus expect to perform very well on our cat \n",
    "vs. dog classification problem.\n",
    "\n",
    "We will use the VGG16 architecture, developed by Karen Simonyan and Andrew Zisserman in 2014, a simple and widely used convnet architecture \n",
    "for ImageNet. Although it is a bit of an older model, far from the current state of the art and somewhat heavier than many other recent \n",
    "models, we chose it because its architecture is similar to what you are already familiar with, and easy to understand without introducing \n",
    "any new concepts. This may be your first encounter with one of these cutesie model names -- VGG, ResNet, Inception, Inception-ResNet, \n",
    "Xception... you will get used to them, as they will come up frequently if you keep doing deep learning for computer vision.\n",
    "\n",
    "There are two ways to leverage a pre-trained network: *feature extraction* and *fine-tuning*. We will cover both of them. Let's start with \n",
    "feature extraction."
   ]
  },
  {
   "cell_type": "markdown",
   "metadata": {},
   "source": [
    "## Feature extraction\n",
    "\n",
    "Feature extraction consists of using the representations learned by a previous network to extract interesting features from new samples. \n",
    "These features are then run through a new classifier, which is trained from scratch.\n",
    "\n",
    "As we saw previously, convnets used for image classification comprise two parts: they start with a series of pooling and convolution \n",
    "layers, and they end with a densely-connected classifier. The first part is called the \"convolutional base\" of the model. In the case of \n",
    "convnets, \"feature extraction\" will simply consist of taking the convolutional base of a previously-trained network, running the new data \n",
    "through it, and training a new classifier on top of the output.\n",
    "\n",
    "![swapping FC classifiers](https://s3.amazonaws.com/book.keras.io/img/ch5/swapping_fc_classifier.png)\n",
    "\n",
    "Why only reuse the convolutional base? Could we reuse the densely-connected classifier as well? In general, it should be avoided. The \n",
    "reason is simply that the representations learned by the convolutional base are likely to be more generic and therefore more reusable: the \n",
    "feature maps of a convnet are presence maps of generic concepts over a picture, which is likely to be useful regardless of the computer \n",
    "vision problem at hand. On the other end, the representations learned by the classifier will necessarily be very specific to the set of \n",
    "classes that the model was trained on -- they will only contain information about the presence probability of this or that class in the \n",
    "entire picture. Additionally, representations found in densely-connected layers no longer contain any information about _where_ objects are \n",
    "located in the input image: these layers get rid of the notion of space, whereas the object location is still described by convolutional \n",
    "feature maps. For problems where object location matters, densely-connected features would be largely useless.\n",
    "\n",
    "Note that the level of generality (and therefore reusability) of the representations extracted by specific convolution layers depends on \n",
    "the depth of the layer in the model. Layers that come earlier in the model extract local, highly generic feature maps (such as visual \n",
    "edges, colors, and textures), while layers higher-up extract more abstract concepts (such as \"cat ear\" or \"dog eye\"). So if your new \n",
    "dataset differs a lot from the dataset that the original model was trained on, you may be better off using only the first few layers of the \n",
    "model to do feature extraction, rather than using the entire convolutional base.\n",
    "\n",
    "In our case, since the ImageNet class set did contain multiple dog and cat classes, it is likely that it would be beneficial to reuse the \n",
    "information contained in the densely-connected layers of the original model. However, we will chose not to, in order to cover the more \n",
    "general case where the class set of the new problem does not overlap with the class set of the original model."
   ]
  },
  {
   "cell_type": "markdown",
   "metadata": {},
   "source": [
    "Let's put this in practice by using the convolutional base of the VGG16 network, trained on ImageNet, to extract interesting features from \n",
    "our cat and dog images, and then training a cat vs. dog classifier on top of these features.\n",
    "\n",
    "The VGG16 model, among others, comes pre-packaged with Keras. You can import it from the `keras.applications` module. Here's the list of \n",
    "image classification models (all pre-trained on the ImageNet dataset) that are available as part of `keras.applications`:\n",
    "\n",
    "* Xception\n",
    "* InceptionV3\n",
    "* ResNet50\n",
    "* VGG16\n",
    "* VGG19\n",
    "* MobileNet\n",
    "\n",
    "Let's instantiate the VGG16 model:"
   ]
  },
  {
   "cell_type": "code",
   "execution_count": 3,
   "metadata": {},
   "outputs": [],
   "source": [
    "from keras.applications import VGG16\n",
    "\n",
    "conv_base = VGG16(weights='imagenet',\n",
    "                  include_top=False,\n",
    "                  input_shape=(150, 150, 3))"
   ]
  },
  {
   "cell_type": "markdown",
   "metadata": {},
   "source": [
    "We passed three arguments to the constructor:\n",
    "\n",
    "* `weights`, to specify which weight checkpoint to initialize the model from\n",
    "* `include_top`, which refers to including or not the densely-connected classifier on top of the network. By default, this \n",
    "densely-connected classifier would correspond to the 1000 classes from ImageNet. Since we intend to use our own densely-connected \n",
    "classifier (with only two classes, cat and dog), we don't need to include it.\n",
    "* `input_shape`, the shape of the image tensors that we will feed to the network. This argument is purely optional: if we don't pass it, \n",
    "then the network will be able to process inputs of any size.\n",
    "\n",
    "Here's the detail of the architecture of the VGG16 convolutional base: it's very similar to the simple convnets that you are already \n",
    "familiar with."
   ]
  },
  {
   "cell_type": "code",
   "execution_count": 4,
   "metadata": {},
   "outputs": [
    {
     "name": "stdout",
     "output_type": "stream",
     "text": [
      "_________________________________________________________________\n",
      "Layer (type)                 Output Shape              Param #   \n",
      "=================================================================\n",
      "input_1 (InputLayer)         (None, 150, 150, 3)       0         \n",
      "_________________________________________________________________\n",
      "block1_conv1 (Conv2D)        (None, 150, 150, 64)      1792      \n",
      "_________________________________________________________________\n",
      "block1_conv2 (Conv2D)        (None, 150, 150, 64)      36928     \n",
      "_________________________________________________________________\n",
      "block1_pool (MaxPooling2D)   (None, 75, 75, 64)        0         \n",
      "_________________________________________________________________\n",
      "block2_conv1 (Conv2D)        (None, 75, 75, 128)       73856     \n",
      "_________________________________________________________________\n",
      "block2_conv2 (Conv2D)        (None, 75, 75, 128)       147584    \n",
      "_________________________________________________________________\n",
      "block2_pool (MaxPooling2D)   (None, 37, 37, 128)       0         \n",
      "_________________________________________________________________\n",
      "block3_conv1 (Conv2D)        (None, 37, 37, 256)       295168    \n",
      "_________________________________________________________________\n",
      "block3_conv2 (Conv2D)        (None, 37, 37, 256)       590080    \n",
      "_________________________________________________________________\n",
      "block3_conv3 (Conv2D)        (None, 37, 37, 256)       590080    \n",
      "_________________________________________________________________\n",
      "block3_pool (MaxPooling2D)   (None, 18, 18, 256)       0         \n",
      "_________________________________________________________________\n",
      "block4_conv1 (Conv2D)        (None, 18, 18, 512)       1180160   \n",
      "_________________________________________________________________\n",
      "block4_conv2 (Conv2D)        (None, 18, 18, 512)       2359808   \n",
      "_________________________________________________________________\n",
      "block4_conv3 (Conv2D)        (None, 18, 18, 512)       2359808   \n",
      "_________________________________________________________________\n",
      "block4_pool (MaxPooling2D)   (None, 9, 9, 512)         0         \n",
      "_________________________________________________________________\n",
      "block5_conv1 (Conv2D)        (None, 9, 9, 512)         2359808   \n",
      "_________________________________________________________________\n",
      "block5_conv2 (Conv2D)        (None, 9, 9, 512)         2359808   \n",
      "_________________________________________________________________\n",
      "block5_conv3 (Conv2D)        (None, 9, 9, 512)         2359808   \n",
      "_________________________________________________________________\n",
      "block5_pool (MaxPooling2D)   (None, 4, 4, 512)         0         \n",
      "=================================================================\n",
      "Total params: 14,714,688\n",
      "Trainable params: 14,714,688\n",
      "Non-trainable params: 0\n",
      "_________________________________________________________________\n"
     ]
    }
   ],
   "source": [
    "conv_base.summary()"
   ]
  },
  {
   "cell_type": "markdown",
   "metadata": {},
   "source": [
    "The final feature map has shape `(4, 4, 512)`. That's the feature on top of which we will stick a densely-connected classifier.\n",
    "\n",
    "At this point, there are two ways we could proceed: \n",
    "\n",
    "* Running the convolutional base over our dataset, recording its output to a Numpy array on disk, then using this data as input to a \n",
    "standalone densely-connected classifier similar to those you have seen in the first chapters of this book. This solution is very fast and \n",
    "cheap to run, because it only requires running the convolutional base once for every input image, and the convolutional base is by far the \n",
    "most expensive part of the pipeline. However, for the exact same reason, this technique would not allow us to leverage data augmentation at \n",
    "all.\n",
    "* Extending the model we have (`conv_base`) by adding `Dense` layers on top, and running the whole thing end-to-end on the input data. This \n",
    "allows us to use data augmentation, because every input image is going through the convolutional base every time it is seen by the model. \n",
    "However, for this same reason, this technique is far more expensive than the first one.\n",
    "\n",
    "We will cover both techniques. Let's walk through the code required to set-up the first one: recording the output of `conv_base` on our \n",
    "data and using these outputs as inputs to a new model.\n",
    "\n",
    "We will start by simply running instances of the previously-introduced `ImageDataGenerator` to extract images as Numpy arrays as well as \n",
    "their labels. We will extract features from these images simply by calling the `predict` method of the `conv_base` model."
   ]
  },
  {
   "cell_type": "code",
   "execution_count": 5,
   "metadata": {},
   "outputs": [
    {
     "name": "stdout",
     "output_type": "stream",
     "text": [
      "Found 2000 images belonging to 2 classes.\n",
      "Found 1000 images belonging to 2 classes.\n",
      "Found 1000 images belonging to 2 classes.\n"
     ]
    }
   ],
   "source": [
    "import os\n",
    "import numpy as np\n",
    "from keras.preprocessing.image import ImageDataGenerator\n",
    "\n",
    "base_dir = 'C:/Users/lee/Documents/GitHub/kaggle_original_data/cats_and_dogs_small'\n",
    "\n",
    "train_dir = os.path.join(base_dir, 'train')\n",
    "validation_dir = os.path.join(base_dir, 'validation')\n",
    "test_dir = os.path.join(base_dir, 'test')\n",
    "\n",
    "datagen = ImageDataGenerator(rescale=1./255)\n",
    "batch_size = 20\n",
    "\n",
    "def extract_features(directory, sample_count):\n",
    "    features = np.zeros(shape=(sample_count, 4, 4, 512))\n",
    "    labels = np.zeros(shape=(sample_count))\n",
    "    generator = datagen.flow_from_directory(\n",
    "        directory,\n",
    "        target_size=(150, 150),\n",
    "        batch_size=batch_size,\n",
    "        class_mode='binary')\n",
    "    i = 0\n",
    "    for inputs_batch, labels_batch in generator:\n",
    "        features_batch = conv_base.predict(inputs_batch)\n",
    "        features[i * batch_size : (i + 1) * batch_size] = features_batch\n",
    "        labels[i * batch_size : (i + 1) * batch_size] = labels_batch\n",
    "        i += 1\n",
    "        if i * batch_size >= sample_count:\n",
    "            # Note that since generators yield data indefinitely in a loop,\n",
    "            # we must `break` after every image has been seen once.\n",
    "            break\n",
    "    return features, labels\n",
    "\n",
    "train_features, train_labels = extract_features(train_dir, 2000)\n",
    "validation_features, validation_labels = extract_features(validation_dir, 1000)\n",
    "test_features, test_labels = extract_features(test_dir, 1000)"
   ]
  },
  {
   "cell_type": "markdown",
   "metadata": {},
   "source": [
    "The extracted features are currently of shape `(samples, 4, 4, 512)`. We will feed them to a densely-connected classifier, so first we must \n",
    "flatten them to `(samples, 8192)`:"
   ]
  },
  {
   "cell_type": "code",
   "execution_count": 6,
   "metadata": {},
   "outputs": [],
   "source": [
    "train_features = np.reshape(train_features, (2000, 4 * 4 * 512))\n",
    "validation_features = np.reshape(validation_features, (1000, 4 * 4 * 512))\n",
    "test_features = np.reshape(test_features, (1000, 4 * 4 * 512))"
   ]
  },
  {
   "cell_type": "markdown",
   "metadata": {},
   "source": [
    "At this point, we can define our densely-connected classifier (note the use of dropout for regularization), and train it on the data and \n",
    "labels that we just recorded:"
   ]
  },
  {
   "cell_type": "code",
   "execution_count": 7,
   "metadata": {},
   "outputs": [
    {
     "name": "stdout",
     "output_type": "stream",
     "text": [
      "Train on 2000 samples, validate on 1000 samples\n",
      "Epoch 1/30\n",
      "2000/2000 [==============================] - 1s 378us/step - loss: 0.5961 - acc: 0.6835 - val_loss: 0.4418 - val_acc: 0.8450\n",
      "Epoch 2/30\n",
      "2000/2000 [==============================] - 0s 219us/step - loss: 0.4401 - acc: 0.8070 - val_loss: 0.3660 - val_acc: 0.8700\n",
      "Epoch 3/30\n",
      "2000/2000 [==============================] - 0s 215us/step - loss: 0.3626 - acc: 0.8435 - val_loss: 0.3263 - val_acc: 0.8800\n",
      "Epoch 4/30\n",
      "2000/2000 [==============================] - 0s 214us/step - loss: 0.3118 - acc: 0.8720 - val_loss: 0.3069 - val_acc: 0.8750\n",
      "Epoch 5/30\n",
      "2000/2000 [==============================] - 0s 224us/step - loss: 0.2834 - acc: 0.8880 - val_loss: 0.2882 - val_acc: 0.8800\n",
      "Epoch 6/30\n",
      "2000/2000 [==============================] - 0s 217us/step - loss: 0.2700 - acc: 0.8955 - val_loss: 0.2831 - val_acc: 0.8810\n",
      "Epoch 7/30\n",
      "2000/2000 [==============================] - 0s 216us/step - loss: 0.2460 - acc: 0.9065 - val_loss: 0.2668 - val_acc: 0.8870\n",
      "Epoch 8/30\n",
      "2000/2000 [==============================] - 0s 215us/step - loss: 0.2325 - acc: 0.9160 - val_loss: 0.2601 - val_acc: 0.8970\n",
      "Epoch 9/30\n",
      "2000/2000 [==============================] - 0s 217us/step - loss: 0.2288 - acc: 0.9160 - val_loss: 0.2581 - val_acc: 0.9060\n",
      "Epoch 10/30\n",
      "2000/2000 [==============================] - 0s 217us/step - loss: 0.2010 - acc: 0.9315 - val_loss: 0.2541 - val_acc: 0.8940\n",
      "Epoch 11/30\n",
      "2000/2000 [==============================] - 0s 217us/step - loss: 0.1953 - acc: 0.9305 - val_loss: 0.2537 - val_acc: 0.8930\n",
      "Epoch 12/30\n",
      "2000/2000 [==============================] - 0s 217us/step - loss: 0.1875 - acc: 0.9315 - val_loss: 0.2443 - val_acc: 0.9000\n",
      "Epoch 13/30\n",
      "2000/2000 [==============================] - 0s 228us/step - loss: 0.1765 - acc: 0.9405 - val_loss: 0.2423 - val_acc: 0.8980\n",
      "Epoch 14/30\n",
      "2000/2000 [==============================] - 0s 233us/step - loss: 0.1723 - acc: 0.9365 - val_loss: 0.2730 - val_acc: 0.8820\n",
      "Epoch 15/30\n",
      "2000/2000 [==============================] - 0s 232us/step - loss: 0.1656 - acc: 0.9440 - val_loss: 0.2401 - val_acc: 0.9040\n",
      "Epoch 16/30\n",
      "2000/2000 [==============================] - 0s 232us/step - loss: 0.1536 - acc: 0.9465 - val_loss: 0.2392 - val_acc: 0.8980\n",
      "Epoch 17/30\n",
      "2000/2000 [==============================] - 0s 217us/step - loss: 0.1505 - acc: 0.9455 - val_loss: 0.2450 - val_acc: 0.9010\n",
      "Epoch 18/30\n",
      "2000/2000 [==============================] - 0s 222us/step - loss: 0.1480 - acc: 0.9450 - val_loss: 0.2373 - val_acc: 0.9030\n",
      "Epoch 19/30\n",
      "2000/2000 [==============================] - 0s 216us/step - loss: 0.1345 - acc: 0.9540 - val_loss: 0.2381 - val_acc: 0.9010\n",
      "Epoch 20/30\n",
      "2000/2000 [==============================] - 0s 216us/step - loss: 0.1327 - acc: 0.9555 - val_loss: 0.2419 - val_acc: 0.9050\n",
      "Epoch 21/30\n",
      "2000/2000 [==============================] - 0s 218us/step - loss: 0.1312 - acc: 0.9550 - val_loss: 0.2404 - val_acc: 0.9000\n",
      "Epoch 22/30\n",
      "2000/2000 [==============================] - 0s 227us/step - loss: 0.1233 - acc: 0.9565 - val_loss: 0.2451 - val_acc: 0.9010\n",
      "Epoch 23/30\n",
      "2000/2000 [==============================] - 0s 218us/step - loss: 0.1216 - acc: 0.9605 - val_loss: 0.2366 - val_acc: 0.8990\n",
      "Epoch 24/30\n",
      "2000/2000 [==============================] - 0s 218us/step - loss: 0.1167 - acc: 0.9595 - val_loss: 0.2388 - val_acc: 0.9020\n",
      "Epoch 25/30\n",
      "2000/2000 [==============================] - 0s 219us/step - loss: 0.1084 - acc: 0.9630 - val_loss: 0.2387 - val_acc: 0.9030\n",
      "Epoch 26/30\n",
      "2000/2000 [==============================] - 0s 214us/step - loss: 0.1019 - acc: 0.9720 - val_loss: 0.2511 - val_acc: 0.9010\n",
      "Epoch 27/30\n",
      "2000/2000 [==============================] - 0s 220us/step - loss: 0.1035 - acc: 0.9655 - val_loss: 0.2371 - val_acc: 0.9020\n",
      "Epoch 28/30\n",
      "2000/2000 [==============================] - 0s 219us/step - loss: 0.1004 - acc: 0.9710 - val_loss: 0.2388 - val_acc: 0.9000\n",
      "Epoch 29/30\n",
      "2000/2000 [==============================] - 0s 217us/step - loss: 0.0938 - acc: 0.9705 - val_loss: 0.2391 - val_acc: 0.9000\n",
      "Epoch 30/30\n",
      "2000/2000 [==============================] - 0s 218us/step - loss: 0.0894 - acc: 0.9760 - val_loss: 0.2471 - val_acc: 0.9060\n"
     ]
    }
   ],
   "source": [
    "from keras import models\n",
    "from keras import layers\n",
    "from keras import optimizers\n",
    "\n",
    "model = models.Sequential()\n",
    "model.add(layers.Dense(256, activation='relu', input_dim=4 * 4 * 512))\n",
    "model.add(layers.Dropout(0.5))\n",
    "model.add(layers.Dense(1, activation='sigmoid'))\n",
    "\n",
    "model.compile(optimizer=optimizers.RMSprop(lr=2e-5),\n",
    "              loss='binary_crossentropy',\n",
    "              metrics=['acc'])\n",
    "\n",
    "history = model.fit(train_features, train_labels,\n",
    "                    epochs=30,\n",
    "                    batch_size=20,\n",
    "                    validation_data=(validation_features, validation_labels))"
   ]
  },
  {
   "cell_type": "markdown",
   "metadata": {},
   "source": [
    "Training is very fast, since we only have to deal with two `Dense` layers -- an epoch takes less than one second even on CPU.\n",
    "\n",
    "Let's take a look at the loss and accuracy curves during training:"
   ]
  },
  {
   "cell_type": "code",
   "execution_count": 8,
   "metadata": {},
   "outputs": [
    {
     "data": {
      "text/plain": [
       "<Figure size 640x480 with 1 Axes>"
      ]
     },
     "metadata": {},
     "output_type": "display_data"
    },
    {
     "data": {
      "text/plain": [
       "<Figure size 640x480 with 1 Axes>"
      ]
     },
     "metadata": {},
     "output_type": "display_data"
    }
   ],
   "source": [
    "import matplotlib.pyplot as plt\n",
    "\n",
    "acc = history.history['acc']\n",
    "val_acc = history.history['val_acc']\n",
    "loss = history.history['loss']\n",
    "val_loss = history.history['val_loss']\n",
    "\n",
    "epochs = range(len(acc))\n",
    "\n",
    "plt.plot(epochs, acc, 'bo', label='Training acc')\n",
    "plt.plot(epochs, val_acc, 'b', label='Validation acc')\n",
    "plt.title('Training and validation accuracy')\n",
    "plt.legend()\n",
    "\n",
    "plt.figure()\n",
    "\n",
    "plt.plot(epochs, loss, 'bo', label='Training loss')\n",
    "plt.plot(epochs, val_loss, 'b', label='Validation loss')\n",
    "plt.title('Training and validation loss')\n",
    "plt.legend()\n",
    "\n",
    "plt.show()"
   ]
  },
  {
   "cell_type": "markdown",
   "metadata": {},
   "source": [
    "\n",
    "We reach a validation accuracy of about 90%, much better than what we could achieve in the previous section with our small model trained from \n",
    "scratch. However, our plots also indicate that we are overfitting almost from the start -- despite using dropout with a fairly large rate. \n",
    "This is because this technique does not leverage data augmentation, which is essential to preventing overfitting with small image datasets.\n",
    "\n",
    "Now, let's review the second technique we mentioned for doing feature extraction, which is much slower and more expensive, but which allows \n",
    "us to leverage data augmentation during training: extending the `conv_base` model and running it end-to-end on the inputs. Note that this \n",
    "technique is in fact so expensive that you should only attempt it if you have access to a GPU: it is absolutely intractable on CPU. If you \n",
    "cannot run your code on GPU, then the previous technique is the way to go.\n",
    "\n",
    "Because models behave just like layers, you can add a model (like our `conv_base`) to a `Sequential` model just like you would add a layer. \n",
    "So you can do the following:"
   ]
  },
  {
   "cell_type": "code",
   "execution_count": 9,
   "metadata": {},
   "outputs": [],
   "source": [
    "from keras import models\n",
    "from keras import layers\n",
    "\n",
    "model = models.Sequential()\n",
    "model.add(conv_base)\n",
    "model.add(layers.Flatten())\n",
    "model.add(layers.Dense(256, activation='relu'))\n",
    "model.add(layers.Dense(1, activation='sigmoid'))"
   ]
  },
  {
   "cell_type": "markdown",
   "metadata": {},
   "source": [
    "This is what our model looks like now:"
   ]
  },
  {
   "cell_type": "code",
   "execution_count": 10,
   "metadata": {},
   "outputs": [
    {
     "name": "stdout",
     "output_type": "stream",
     "text": [
      "_________________________________________________________________\n",
      "Layer (type)                 Output Shape              Param #   \n",
      "=================================================================\n",
      "vgg16 (Model)                (None, 4, 4, 512)         14714688  \n",
      "_________________________________________________________________\n",
      "flatten_1 (Flatten)          (None, 8192)              0         \n",
      "_________________________________________________________________\n",
      "dense_3 (Dense)              (None, 256)               2097408   \n",
      "_________________________________________________________________\n",
      "dense_4 (Dense)              (None, 1)                 257       \n",
      "=================================================================\n",
      "Total params: 16,812,353\n",
      "Trainable params: 16,812,353\n",
      "Non-trainable params: 0\n",
      "_________________________________________________________________\n"
     ]
    }
   ],
   "source": [
    "model.summary()"
   ]
  },
  {
   "cell_type": "markdown",
   "metadata": {},
   "source": [
    "As you can see, the convolutional base of VGG16 has 14,714,688 parameters, which is very large. The classifier we are adding on top has 2 \n",
    "million parameters.\n",
    "\n",
    "Before we compile and train our model, a very important thing to do is to freeze the convolutional base. \"Freezing\" a layer or set of \n",
    "layers means preventing their weights from getting updated during training. If we don't do this, then the representations that were \n",
    "previously learned by the convolutional base would get modified during training. Since the `Dense` layers on top are randomly initialized, \n",
    "very large weight updates would be propagated through the network, effectively destroying the representations previously learned.\n",
    "\n",
    "In Keras, freezing a network is done by setting its `trainable` attribute to `False`:"
   ]
  },
  {
   "cell_type": "code",
   "execution_count": 11,
   "metadata": {},
   "outputs": [
    {
     "name": "stdout",
     "output_type": "stream",
     "text": [
      "This is the number of trainable weights before freezing the conv base: 30\n"
     ]
    }
   ],
   "source": [
    "print('This is the number of trainable weights '\n",
    "      'before freezing the conv base:', len(model.trainable_weights))"
   ]
  },
  {
   "cell_type": "code",
   "execution_count": 12,
   "metadata": {},
   "outputs": [],
   "source": [
    "conv_base.trainable = False"
   ]
  },
  {
   "cell_type": "code",
   "execution_count": 13,
   "metadata": {},
   "outputs": [
    {
     "name": "stdout",
     "output_type": "stream",
     "text": [
      "This is the number of trainable weights after freezing the conv base: 4\n"
     ]
    }
   ],
   "source": [
    "print('This is the number of trainable weights '\n",
    "      'after freezing the conv base:', len(model.trainable_weights))"
   ]
  },
  {
   "cell_type": "markdown",
   "metadata": {},
   "source": [
    "With this setup, only the weights from the two `Dense` layers that we added will be trained. That's a total of four weight tensors: two per \n",
    "layer (the main weight matrix and the bias vector). Note that in order for these changes to take effect, we must first compile the model. \n",
    "If you ever modify weight trainability after compilation, you should then re-compile the model, or these changes would be ignored.\n",
    "\n",
    "Now we can start training our model, with the same data augmentation configuration that we used in our previous example:"
   ]
  },
  {
   "cell_type": "code",
   "execution_count": 14,
   "metadata": {},
   "outputs": [
    {
     "name": "stdout",
     "output_type": "stream",
     "text": [
      "Found 2000 images belonging to 2 classes.\n",
      "Found 1000 images belonging to 2 classes.\n",
      "Epoch 1/30\n",
      " - 12s - loss: 0.5956 - acc: 0.6855 - val_loss: 0.4569 - val_acc: 0.8130\n",
      "Epoch 2/30\n",
      " - 11s - loss: 0.4832 - acc: 0.7790 - val_loss: 0.3698 - val_acc: 0.8500\n",
      "Epoch 3/30\n",
      " - 11s - loss: 0.4300 - acc: 0.8190 - val_loss: 0.3311 - val_acc: 0.8690\n",
      "Epoch 4/30\n",
      " - 11s - loss: 0.4056 - acc: 0.8345 - val_loss: 0.3098 - val_acc: 0.8710\n",
      "Epoch 5/30\n",
      " - 11s - loss: 0.3829 - acc: 0.8290 - val_loss: 0.3100 - val_acc: 0.8670\n",
      "Epoch 6/30\n",
      " - 11s - loss: 0.3612 - acc: 0.8475 - val_loss: 0.2772 - val_acc: 0.8850\n",
      "Epoch 7/30\n",
      " - 11s - loss: 0.3598 - acc: 0.8475 - val_loss: 0.2728 - val_acc: 0.8850\n",
      "Epoch 8/30\n",
      " - 11s - loss: 0.3459 - acc: 0.8435 - val_loss: 0.2658 - val_acc: 0.8830\n",
      "Epoch 9/30\n",
      " - 11s - loss: 0.3439 - acc: 0.8490 - val_loss: 0.2638 - val_acc: 0.8860\n",
      "Epoch 10/30\n",
      " - 11s - loss: 0.3379 - acc: 0.8475 - val_loss: 0.2555 - val_acc: 0.8930\n",
      "Epoch 11/30\n",
      " - 11s - loss: 0.3181 - acc: 0.8610 - val_loss: 0.2559 - val_acc: 0.8900\n",
      "Epoch 12/30\n",
      " - 11s - loss: 0.3376 - acc: 0.8515 - val_loss: 0.2545 - val_acc: 0.8950\n",
      "Epoch 13/30\n",
      " - 11s - loss: 0.3187 - acc: 0.8660 - val_loss: 0.2490 - val_acc: 0.8970\n",
      "Epoch 14/30\n",
      " - 11s - loss: 0.3219 - acc: 0.8605 - val_loss: 0.2528 - val_acc: 0.8950\n",
      "Epoch 15/30\n",
      " - 11s - loss: 0.3243 - acc: 0.8515 - val_loss: 0.2505 - val_acc: 0.8930\n",
      "Epoch 16/30\n",
      " - 11s - loss: 0.3272 - acc: 0.8530 - val_loss: 0.2496 - val_acc: 0.8950\n",
      "Epoch 17/30\n",
      " - 11s - loss: 0.3026 - acc: 0.8695 - val_loss: 0.2441 - val_acc: 0.9020\n",
      "Epoch 18/30\n",
      " - 11s - loss: 0.2907 - acc: 0.8790 - val_loss: 0.2528 - val_acc: 0.8900\n",
      "Epoch 19/30\n",
      " - 11s - loss: 0.3004 - acc: 0.8735 - val_loss: 0.2419 - val_acc: 0.9010\n",
      "Epoch 20/30\n",
      " - 11s - loss: 0.3175 - acc: 0.8625 - val_loss: 0.2387 - val_acc: 0.9020\n",
      "Epoch 21/30\n",
      " - 11s - loss: 0.2998 - acc: 0.8720 - val_loss: 0.2434 - val_acc: 0.8950\n",
      "Epoch 22/30\n",
      " - 11s - loss: 0.3014 - acc: 0.8745 - val_loss: 0.2411 - val_acc: 0.8980\n",
      "Epoch 23/30\n",
      " - 11s - loss: 0.2908 - acc: 0.8750 - val_loss: 0.2383 - val_acc: 0.9000\n",
      "Epoch 24/30\n",
      " - 11s - loss: 0.2889 - acc: 0.8795 - val_loss: 0.2562 - val_acc: 0.8850\n",
      "Epoch 25/30\n",
      " - 11s - loss: 0.2875 - acc: 0.8800 - val_loss: 0.2380 - val_acc: 0.9010\n",
      "Epoch 26/30\n",
      " - 11s - loss: 0.2908 - acc: 0.8765 - val_loss: 0.2365 - val_acc: 0.9030\n",
      "Epoch 27/30\n",
      " - 11s - loss: 0.2897 - acc: 0.8760 - val_loss: 0.2473 - val_acc: 0.8960\n",
      "Epoch 28/30\n",
      " - 11s - loss: 0.2926 - acc: 0.8775 - val_loss: 0.2345 - val_acc: 0.9000\n",
      "Epoch 29/30\n",
      " - 11s - loss: 0.2924 - acc: 0.8735 - val_loss: 0.2331 - val_acc: 0.9010\n",
      "Epoch 30/30\n",
      " - 11s - loss: 0.2896 - acc: 0.8745 - val_loss: 0.2363 - val_acc: 0.8970\n"
     ]
    }
   ],
   "source": [
    "from keras.preprocessing.image import ImageDataGenerator\n",
    "\n",
    "train_datagen = ImageDataGenerator(\n",
    "      rescale=1./255,\n",
    "      rotation_range=40,\n",
    "      width_shift_range=0.2,\n",
    "      height_shift_range=0.2,\n",
    "      shear_range=0.2,\n",
    "      zoom_range=0.2,\n",
    "      horizontal_flip=True,\n",
    "      fill_mode='nearest')\n",
    "\n",
    "# Note that the validation data should not be augmented!\n",
    "test_datagen = ImageDataGenerator(rescale=1./255)\n",
    "\n",
    "train_generator = train_datagen.flow_from_directory(\n",
    "        # This is the target directory\n",
    "        train_dir,\n",
    "        # All images will be resized to 150x150\n",
    "        target_size=(150, 150),\n",
    "        batch_size=20,\n",
    "        # Since we use binary_crossentropy loss, we need binary labels\n",
    "        class_mode='binary')\n",
    "\n",
    "validation_generator = test_datagen.flow_from_directory(\n",
    "        validation_dir,\n",
    "        target_size=(150, 150),\n",
    "        batch_size=20,\n",
    "        class_mode='binary')\n",
    "\n",
    "model.compile(loss='binary_crossentropy',\n",
    "              optimizer=optimizers.RMSprop(lr=2e-5),\n",
    "              metrics=['acc'])\n",
    "\n",
    "history = model.fit_generator(\n",
    "      train_generator,\n",
    "      steps_per_epoch=100,\n",
    "      epochs=30,\n",
    "      validation_data=validation_generator,\n",
    "      validation_steps=50,\n",
    "      verbose=2)"
   ]
  },
  {
   "cell_type": "code",
   "execution_count": 15,
   "metadata": {},
   "outputs": [],
   "source": [
    "model.save('cats_and_dogs_small_3.h5')"
   ]
  },
  {
   "cell_type": "markdown",
   "metadata": {},
   "source": [
    "Let's plot our results again:"
   ]
  },
  {
   "cell_type": "code",
   "execution_count": 16,
   "metadata": {},
   "outputs": [
    {
     "data": {
      "image/png": "[encoded data removed]",
      "text/plain": [
       "<Figure size 432x288 with 1 Axes>"
      ]
     },
     "metadata": {
      "needs_background": "light"
     },
     "output_type": "display_data"
    },
    {
     "data": {
      "image/png": "[encoded data removed]",
      "text/plain": [
       "<Figure size 432x288 with 1 Axes>"
      ]
     },
     "metadata": {
      "needs_background": "light"
     },
     "output_type": "display_data"
    }
   ],
   "source": [
    "acc = history.history['acc']\n",
    "val_acc = history.history['val_acc']\n",
    "loss = history.history['loss']\n",
    "val_loss = history.history['val_loss']\n",
    "\n",
    "epochs = range(len(acc))\n",
    "\n",
    "plt.plot(epochs, acc, 'bo', label='Training acc')\n",
    "plt.plot(epochs, val_acc, 'b', label='Validation acc')\n",
    "plt.title('Training and validation accuracy')\n",
    "plt.legend()\n",
    "\n",
    "plt.figure()\n",
    "\n",
    "plt.plot(epochs, loss, 'bo', label='Training loss')\n",
    "plt.plot(epochs, val_loss, 'b', label='Validation loss')\n",
    "plt.title('Training and validation loss')\n",
    "plt.legend()\n",
    "\n",
    "plt.show()"
   ]
  },
  {
   "cell_type": "markdown",
   "metadata": {},
   "source": [
    "As you can see, we reach a validation accuracy of about 96%. This is much better than our small convnet trained from scratch."
   ]
  },
  {
   "cell_type": "markdown",
   "metadata": {},
   "source": [
    "## Fine-tuning\n",
    "\n",
    "Another widely used technique for model reuse, complementary to feature extraction, is _fine-tuning_. \n",
    "Fine-tuning consists in unfreezing a few of the top layers \n",
    "of a frozen model base used for feature extraction, and jointly training both the newly added part of the model (in our case, the \n",
    "fully-connected classifier) and these top layers. This is called \"fine-tuning\" because it slightly adjusts the more abstract \n",
    "representations of the model being reused, in order to make them more relevant for the problem at hand.\n",
    "\n",
    "![fine-tuning VGG16](https://s3.amazonaws.com/book.keras.io/img/ch5/vgg16_fine_tuning.png)"
   ]
  },
  {
   "cell_type": "markdown",
   "metadata": {},
   "source": [
    "We have stated before that it was necessary to freeze the convolution base of VGG16 in order to be able to train a randomly initialized \n",
    "classifier on top. For the same reason, it is only possible to fine-tune the top layers of the convolutional base once the classifier on \n",
    "top has already been trained. If the classified wasn't already trained, then the error signal propagating through the network during \n",
    "training would be too large, and the representations previously learned by the layers being fine-tuned would be destroyed. Thus the steps \n",
    "for fine-tuning a network are as follow:\n",
    "\n",
    "* 1) Add your custom network on top of an already trained base network.\n",
    "* 2) Freeze the base network.\n",
    "* 3) Train the part you added.\n",
    "* 4) Unfreeze some layers in the base network.\n",
    "* 5) Jointly train both these layers and the part you added.\n",
    "\n",
    "We have already completed the first 3 steps when doing feature extraction. Let's proceed with the 4th step: we will unfreeze our `conv_base`, \n",
    "and then freeze individual layers inside of it.\n",
    "\n",
    "As a reminder, this is what our convolutional base looks like:"
   ]
  },
  {
   "cell_type": "code",
   "execution_count": 17,
   "metadata": {},
   "outputs": [
    {
     "name": "stdout",
     "output_type": "stream",
     "text": [
      "_________________________________________________________________\n",
      "Layer (type)                 Output Shape              Param #   \n",
      "=================================================================\n",
      "input_1 (InputLayer)         (None, 150, 150, 3)       0         \n",
      "_________________________________________________________________\n",
      "block1_conv1 (Conv2D)        (None, 150, 150, 64)      1792      \n",
      "_________________________________________________________________\n",
      "block1_conv2 (Conv2D)        (None, 150, 150, 64)      36928     \n",
      "_________________________________________________________________\n",
      "block1_pool (MaxPooling2D)   (None, 75, 75, 64)        0         \n",
      "_________________________________________________________________\n",
      "block2_conv1 (Conv2D)        (None, 75, 75, 128)       73856     \n",
      "_________________________________________________________________\n",
      "block2_conv2 (Conv2D)        (None, 75, 75, 128)       147584    \n",
      "_________________________________________________________________\n",
      "block2_pool (MaxPooling2D)   (None, 37, 37, 128)       0         \n",
      "_________________________________________________________________\n",
      "block3_conv1 (Conv2D)        (None, 37, 37, 256)       295168    \n",
      "_________________________________________________________________\n",
      "block3_conv2 (Conv2D)        (None, 37, 37, 256)       590080    \n",
      "_________________________________________________________________\n",
      "block3_conv3 (Conv2D)        (None, 37, 37, 256)       590080    \n",
      "_________________________________________________________________\n",
      "block3_pool (MaxPooling2D)   (None, 18, 18, 256)       0         \n",
      "_________________________________________________________________\n",
      "block4_conv1 (Conv2D)        (None, 18, 18, 512)       1180160   \n",
      "_________________________________________________________________\n",
      "block4_conv2 (Conv2D)        (None, 18, 18, 512)       2359808   \n",
      "_________________________________________________________________\n",
      "block4_conv3 (Conv2D)        (None, 18, 18, 512)       2359808   \n",
      "_________________________________________________________________\n",
      "block4_pool (MaxPooling2D)   (None, 9, 9, 512)         0         \n",
      "_________________________________________________________________\n",
      "block5_conv1 (Conv2D)        (None, 9, 9, 512)         2359808   \n",
      "_________________________________________________________________\n",
      "block5_conv2 (Conv2D)        (None, 9, 9, 512)         2359808   \n",
      "_________________________________________________________________\n",
      "block5_conv3 (Conv2D)        (None, 9, 9, 512)         2359808   \n",
      "_________________________________________________________________\n",
      "block5_pool (MaxPooling2D)   (None, 4, 4, 512)         0         \n",
      "=================================================================\n",
      "Total params: 14,714,688\n",
      "Trainable params: 0\n",
      "Non-trainable params: 14,714,688\n",
      "_________________________________________________________________\n"
     ]
    }
   ],
   "source": [
    "conv_base.summary()"
   ]
  },
  {
   "cell_type": "markdown",
   "metadata": {},
   "source": [
    "\n",
    "We will fine-tune the last 3 convolutional layers, which means that all layers up until `block4_pool` should be frozen, and the layers \n",
    "`block5_conv1`, `block5_conv2` and `block5_conv3` should be trainable.\n",
    "\n",
    "Why not fine-tune more layers? Why not fine-tune the entire convolutional base? We could. However, we need to consider that:\n",
    "\n",
    "* Earlier layers in the convolutional base encode more generic, reusable features, while layers higher up encode more specialized features. It is \n",
    "more useful to fine-tune the more specialized features, as these are the ones that need to be repurposed on our new problem. There would \n",
    "be fast-decreasing returns in fine-tuning lower layers.\n",
    "* The more parameters we are training, the more we are at risk of overfitting. The convolutional base has 15M parameters, so it would be \n",
    "risky to attempt to train it on our small dataset.\n",
    "\n",
    "Thus, in our situation, it is a good strategy to only fine-tune the top 2 to 3 layers in the convolutional base.\n",
    "\n",
    "Let's set this up, starting from where we left off in the previous example:"
   ]
  },
  {
   "cell_type": "code",
   "execution_count": 18,
   "metadata": {},
   "outputs": [],
   "source": [
    "conv_base.trainable = True\n",
    "\n",
    "set_trainable = False\n",
    "for layer in conv_base.layers:\n",
    "    if layer.name == 'block5_conv1':\n",
    "        set_trainable = True\n",
    "    if set_trainable:\n",
    "        layer.trainable = True\n",
    "    else:\n",
    "        layer.trainable = False"
   ]
  },
  {
   "cell_type": "markdown",
   "metadata": {},
   "source": [
    "Now we can start fine-tuning our network. We will do this with the RMSprop optimizer, using a very low learning rate. The reason for using \n",
    "a low learning rate is that we want to limit the magnitude of the modifications we make to the representations of the 3 layers that we are \n",
    "fine-tuning. Updates that are too large may harm these representations.\n",
    "\n",
    "Now let's proceed with fine-tuning:"
   ]
  },
  {
   "cell_type": "code",
   "execution_count": 19,
   "metadata": {},
   "outputs": [
    {
     "name": "stdout",
     "output_type": "stream",
     "text": [
      "Epoch 1/100\n",
      "100/100 [==============================] - 12s 123ms/step - loss: 0.2906 - acc: 0.8715 - val_loss: 0.2266 - val_acc: 0.9120\n",
      "Epoch 2/100\n",
      "100/100 [==============================] - 11s 111ms/step - loss: 0.2776 - acc: 0.8725 - val_loss: 0.2176 - val_acc: 0.9130\n",
      "Epoch 3/100\n",
      "100/100 [==============================] - 11s 111ms/step - loss: 0.2414 - acc: 0.8965 - val_loss: 0.2188 - val_acc: 0.9180\n",
      "Epoch 4/100\n",
      "100/100 [==============================] - 11s 111ms/step - loss: 0.2246 - acc: 0.8990 - val_loss: 0.2128 - val_acc: 0.9210\n",
      "Epoch 5/100\n",
      "100/100 [==============================] - 11s 110ms/step - loss: 0.1977 - acc: 0.9155 - val_loss: 0.2079 - val_acc: 0.9240\n",
      "Epoch 6/100\n",
      "100/100 [==============================] - 11s 110ms/step - loss: 0.1989 - acc: 0.9215 - val_loss: 0.1867 - val_acc: 0.9250\n",
      "Epoch 7/100\n",
      "100/100 [==============================] - 11s 111ms/step - loss: 0.1868 - acc: 0.9210 - val_loss: 0.1866 - val_acc: 0.9250\n",
      "Epoch 8/100\n",
      "100/100 [==============================] - 11s 111ms/step - loss: 0.1636 - acc: 0.9360 - val_loss: 0.1838 - val_acc: 0.9300\n",
      "Epoch 9/100\n",
      "100/100 [==============================] - 11s 111ms/step - loss: 0.1561 - acc: 0.9290 - val_loss: 0.2269 - val_acc: 0.9150\n",
      "Epoch 10/100\n",
      "100/100 [==============================] - 11s 111ms/step - loss: 0.1575 - acc: 0.9335 - val_loss: 0.1883 - val_acc: 0.9290\n",
      "Epoch 11/100\n",
      "100/100 [==============================] - 11s 111ms/step - loss: 0.1470 - acc: 0.9410 - val_loss: 0.1765 - val_acc: 0.9340\n",
      "Epoch 12/100\n",
      "100/100 [==============================] - 11s 110ms/step - loss: 0.1413 - acc: 0.9480 - val_loss: 0.1960 - val_acc: 0.9250\n",
      "Epoch 13/100\n",
      "100/100 [==============================] - 11s 111ms/step - loss: 0.1268 - acc: 0.9475 - val_loss: 0.1827 - val_acc: 0.9330\n",
      "Epoch 14/100\n",
      "100/100 [==============================] - 11s 111ms/step - loss: 0.1276 - acc: 0.9420 - val_loss: 0.1710 - val_acc: 0.9400\n",
      "Epoch 15/100\n",
      "100/100 [==============================] - 11s 110ms/step - loss: 0.1344 - acc: 0.9450 - val_loss: 0.2002 - val_acc: 0.9220\n",
      "Epoch 16/100\n",
      "100/100 [==============================] - 11s 110ms/step - loss: 0.1063 - acc: 0.9535 - val_loss: 0.1841 - val_acc: 0.9340\n",
      "Epoch 17/100\n",
      "100/100 [==============================] - 11s 111ms/step - loss: 0.1126 - acc: 0.9545 - val_loss: 0.1865 - val_acc: 0.9340\n",
      "Epoch 18/100\n",
      "100/100 [==============================] - 11s 111ms/step - loss: 0.1160 - acc: 0.9515 - val_loss: 0.1781 - val_acc: 0.9390\n",
      "Epoch 19/100\n",
      "100/100 [==============================] - 11s 110ms/step - loss: 0.1061 - acc: 0.9625 - val_loss: 0.2126 - val_acc: 0.9260\n",
      "Epoch 20/100\n",
      "100/100 [==============================] - 11s 111ms/step - loss: 0.1032 - acc: 0.9570 - val_loss: 0.1893 - val_acc: 0.9340\n",
      "Epoch 21/100\n",
      "100/100 [==============================] - 11s 112ms/step - loss: 0.0951 - acc: 0.9625 - val_loss: 0.1714 - val_acc: 0.9330\n",
      "Epoch 22/100\n",
      "100/100 [==============================] - 11s 110ms/step - loss: 0.0879 - acc: 0.9645 - val_loss: 0.1813 - val_acc: 0.9390\n",
      "Epoch 23/100\n",
      "100/100 [==============================] - 11s 111ms/step - loss: 0.0733 - acc: 0.9700 - val_loss: 0.1870 - val_acc: 0.9320\n",
      "Epoch 24/100\n",
      "100/100 [==============================] - 11s 111ms/step - loss: 0.0892 - acc: 0.9635 - val_loss: 0.1806 - val_acc: 0.9360\n",
      "Epoch 25/100\n",
      "100/100 [==============================] - 11s 110ms/step - loss: 0.0879 - acc: 0.9690 - val_loss: 0.1835 - val_acc: 0.9350\n",
      "Epoch 26/100\n",
      "100/100 [==============================] - 11s 110ms/step - loss: 0.0851 - acc: 0.9675 - val_loss: 0.1730 - val_acc: 0.9340\n",
      "Epoch 27/100\n",
      "100/100 [==============================] - 11s 111ms/step - loss: 0.0843 - acc: 0.9670 - val_loss: 0.1823 - val_acc: 0.9350\n",
      "Epoch 28/100\n",
      "100/100 [==============================] - 11s 110ms/step - loss: 0.0679 - acc: 0.9715 - val_loss: 0.1762 - val_acc: 0.9360\n",
      "Epoch 29/100\n",
      "100/100 [==============================] - 11s 110ms/step - loss: 0.0695 - acc: 0.9740 - val_loss: 0.1730 - val_acc: 0.9350\n",
      "Epoch 30/100\n",
      "100/100 [==============================] - 11s 111ms/step - loss: 0.0782 - acc: 0.9690 - val_loss: 0.1748 - val_acc: 0.9380\n",
      "Epoch 31/100\n",
      "100/100 [==============================] - 11s 111ms/step - loss: 0.0796 - acc: 0.9670 - val_loss: 0.1833 - val_acc: 0.9380\n",
      "Epoch 32/100\n",
      "100/100 [==============================] - 11s 110ms/step - loss: 0.0581 - acc: 0.9800 - val_loss: 0.2011 - val_acc: 0.9330\n",
      "Epoch 33/100\n",
      "100/100 [==============================] - 11s 112ms/step - loss: 0.0611 - acc: 0.9770 - val_loss: 0.1778 - val_acc: 0.9460\n",
      "Epoch 34/100\n",
      "100/100 [==============================] - 11s 111ms/step - loss: 0.0576 - acc: 0.9780 - val_loss: 0.2106 - val_acc: 0.9320\n",
      "Epoch 35/100\n",
      "100/100 [==============================] - 11s 110ms/step - loss: 0.0516 - acc: 0.9800 - val_loss: 0.3206 - val_acc: 0.9150\n",
      "Epoch 36/100\n",
      "100/100 [==============================] - 11s 111ms/step - loss: 0.0641 - acc: 0.9740 - val_loss: 0.2259 - val_acc: 0.9320\n",
      "Epoch 37/100\n",
      "100/100 [==============================] - 11s 111ms/step - loss: 0.0665 - acc: 0.9750 - val_loss: 0.1984 - val_acc: 0.9380\n",
      "Epoch 38/100\n",
      "100/100 [==============================] - 11s 110ms/step - loss: 0.0513 - acc: 0.9780 - val_loss: 0.2316 - val_acc: 0.9290\n",
      "Epoch 39/100\n",
      "100/100 [==============================] - 11s 111ms/step - loss: 0.0521 - acc: 0.9800 - val_loss: 0.2399 - val_acc: 0.9280\n",
      "Epoch 40/100\n",
      "100/100 [==============================] - 11s 111ms/step - loss: 0.0584 - acc: 0.9790 - val_loss: 0.1850 - val_acc: 0.9360\n",
      "Epoch 41/100\n",
      "100/100 [==============================] - 11s 110ms/step - loss: 0.0526 - acc: 0.9835 - val_loss: 0.2066 - val_acc: 0.9360\n",
      "Epoch 42/100\n",
      "100/100 [==============================] - 11s 111ms/step - loss: 0.0550 - acc: 0.9805 - val_loss: 0.1881 - val_acc: 0.9390\n",
      "Epoch 43/100\n",
      "100/100 [==============================] - 11s 111ms/step - loss: 0.0498 - acc: 0.9815 - val_loss: 0.1803 - val_acc: 0.9400\n",
      "Epoch 44/100\n",
      "100/100 [==============================] - 11s 110ms/step - loss: 0.0379 - acc: 0.9855 - val_loss: 0.3312 - val_acc: 0.9160\n",
      "Epoch 45/100\n",
      "100/100 [==============================] - 11s 110ms/step - loss: 0.0490 - acc: 0.9820 - val_loss: 0.2259 - val_acc: 0.9400\n",
      "Epoch 46/100\n",
      "100/100 [==============================] - 11s 111ms/step - loss: 0.0534 - acc: 0.9795 - val_loss: 0.3160 - val_acc: 0.9170\n",
      "Epoch 47/100\n",
      "100/100 [==============================] - 11s 111ms/step - loss: 0.0349 - acc: 0.9855 - val_loss: 0.1790 - val_acc: 0.9450\n",
      "Epoch 48/100\n",
      "100/100 [==============================] - 11s 110ms/step - loss: 0.0397 - acc: 0.9825 - val_loss: 0.2313 - val_acc: 0.9420\n",
      "Epoch 49/100\n",
      "100/100 [==============================] - 11s 111ms/step - loss: 0.0407 - acc: 0.9855 - val_loss: 0.3014 - val_acc: 0.9200\n",
      "Epoch 50/100\n",
      "100/100 [==============================] - 11s 111ms/step - loss: 0.0345 - acc: 0.9865 - val_loss: 0.2128 - val_acc: 0.9380\n",
      "Epoch 51/100\n",
      "100/100 [==============================] - 11s 110ms/step - loss: 0.0376 - acc: 0.9875 - val_loss: 0.2070 - val_acc: 0.9350\n",
      "Epoch 52/100\n",
      "100/100 [==============================] - 11s 111ms/step - loss: 0.0388 - acc: 0.9845 - val_loss: 0.2432 - val_acc: 0.9370\n",
      "Epoch 53/100\n",
      "100/100 [==============================] - 11s 111ms/step - loss: 0.0412 - acc: 0.9860 - val_loss: 0.1926 - val_acc: 0.9410\n",
      "Epoch 54/100\n",
      "100/100 [==============================] - 11s 110ms/step - loss: 0.0390 - acc: 0.9845 - val_loss: 0.1898 - val_acc: 0.9420\n",
      "Epoch 55/100\n",
      "100/100 [==============================] - 11s 111ms/step - loss: 0.0315 - acc: 0.9870 - val_loss: 0.2298 - val_acc: 0.9350\n",
      "Epoch 56/100\n",
      "100/100 [==============================] - 11s 111ms/step - loss: 0.0389 - acc: 0.9885 - val_loss: 0.2362 - val_acc: 0.9380\n",
      "Epoch 57/100\n",
      "100/100 [==============================] - 11s 111ms/step - loss: 0.0406 - acc: 0.9865 - val_loss: 0.2080 - val_acc: 0.9380\n",
      "Epoch 58/100\n",
      "100/100 [==============================] - 11s 110ms/step - loss: 0.0326 - acc: 0.9890 - val_loss: 0.2743 - val_acc: 0.9290\n",
      "Epoch 59/100\n",
      "100/100 [==============================] - 11s 111ms/step - loss: 0.0273 - acc: 0.9895 - val_loss: 0.2170 - val_acc: 0.9410\n",
      "Epoch 60/100\n",
      "100/100 [==============================] - 11s 111ms/step - loss: 0.0290 - acc: 0.9915 - val_loss: 0.2997 - val_acc: 0.9270\n"
     ]
    },
    {
     "name": "stdout",
     "output_type": "stream",
     "text": [
      "Epoch 61/100\n",
      "100/100 [==============================] - 11s 110ms/step - loss: 0.0428 - acc: 0.9840 - val_loss: 0.1984 - val_acc: 0.9400\n",
      "Epoch 62/100\n",
      "100/100 [==============================] - 11s 111ms/step - loss: 0.0203 - acc: 0.9930 - val_loss: 0.2775 - val_acc: 0.9390\n",
      "Epoch 63/100\n",
      "100/100 [==============================] - 11s 111ms/step - loss: 0.0283 - acc: 0.9890 - val_loss: 0.3470 - val_acc: 0.9190\n",
      "Epoch 64/100\n",
      "100/100 [==============================] - 11s 110ms/step - loss: 0.0304 - acc: 0.9900 - val_loss: 0.2528 - val_acc: 0.9410\n",
      "Epoch 65/100\n",
      "100/100 [==============================] - 11s 111ms/step - loss: 0.0306 - acc: 0.9890 - val_loss: 0.2198 - val_acc: 0.9410\n",
      "Epoch 66/100\n",
      "100/100 [==============================] - 11s 111ms/step - loss: 0.0293 - acc: 0.9885 - val_loss: 0.2946 - val_acc: 0.9290\n",
      "Epoch 67/100\n",
      "100/100 [==============================] - 11s 110ms/step - loss: 0.0246 - acc: 0.9910 - val_loss: 0.2463 - val_acc: 0.9400\n",
      "Epoch 68/100\n",
      "100/100 [==============================] - 11s 110ms/step - loss: 0.0273 - acc: 0.9920 - val_loss: 0.2283 - val_acc: 0.9430\n",
      "Epoch 69/100\n",
      "100/100 [==============================] - 11s 111ms/step - loss: 0.0342 - acc: 0.9900 - val_loss: 0.3076 - val_acc: 0.9250\n",
      "Epoch 70/100\n",
      "100/100 [==============================] - 11s 110ms/step - loss: 0.0327 - acc: 0.9895 - val_loss: 0.2468 - val_acc: 0.9380\n",
      "Epoch 71/100\n",
      "100/100 [==============================] - 11s 110ms/step - loss: 0.0316 - acc: 0.9905 - val_loss: 0.2291 - val_acc: 0.9370\n",
      "Epoch 72/100\n",
      "100/100 [==============================] - 11s 111ms/step - loss: 0.0232 - acc: 0.9905 - val_loss: 0.2351 - val_acc: 0.9390\n",
      "Epoch 73/100\n",
      "100/100 [==============================] - 11s 111ms/step - loss: 0.0170 - acc: 0.9965 - val_loss: 0.2326 - val_acc: 0.9430\n",
      "Epoch 74/100\n",
      "100/100 [==============================] - 11s 110ms/step - loss: 0.0307 - acc: 0.9900 - val_loss: 0.2341 - val_acc: 0.9400\n",
      "Epoch 75/100\n",
      "100/100 [==============================] - 11s 111ms/step - loss: 0.0241 - acc: 0.9900 - val_loss: 0.3676 - val_acc: 0.9210\n",
      "Epoch 76/100\n",
      "100/100 [==============================] - 11s 111ms/step - loss: 0.0234 - acc: 0.9900 - val_loss: 0.2143 - val_acc: 0.9390\n",
      "Epoch 77/100\n",
      "100/100 [==============================] - 11s 110ms/step - loss: 0.0293 - acc: 0.9885 - val_loss: 0.2339 - val_acc: 0.9390\n",
      "Epoch 78/100\n",
      "100/100 [==============================] - 11s 111ms/step - loss: 0.0248 - acc: 0.9930 - val_loss: 0.2191 - val_acc: 0.9460\n",
      "Epoch 79/100\n",
      "100/100 [==============================] - 11s 111ms/step - loss: 0.0132 - acc: 0.9965 - val_loss: 0.2523 - val_acc: 0.9440\n",
      "Epoch 80/100\n",
      "100/100 [==============================] - 11s 110ms/step - loss: 0.0142 - acc: 0.9955 - val_loss: 0.2743 - val_acc: 0.9410\n",
      "Epoch 81/100\n",
      "100/100 [==============================] - 11s 111ms/step - loss: 0.0226 - acc: 0.9930 - val_loss: 0.2514 - val_acc: 0.9390\n",
      "Epoch 82/100\n",
      "100/100 [==============================] - 11s 111ms/step - loss: 0.0205 - acc: 0.9930 - val_loss: 0.3451 - val_acc: 0.9280\n",
      "Epoch 83/100\n",
      "100/100 [==============================] - 11s 110ms/step - loss: 0.0139 - acc: 0.9950 - val_loss: 0.2559 - val_acc: 0.9380\n",
      "Epoch 84/100\n",
      "100/100 [==============================] - 11s 110ms/step - loss: 0.0157 - acc: 0.9970 - val_loss: 0.2581 - val_acc: 0.9400\n",
      "Epoch 85/100\n",
      "100/100 [==============================] - 11s 111ms/step - loss: 0.0164 - acc: 0.9940 - val_loss: 0.3170 - val_acc: 0.9390\n",
      "Epoch 86/100\n",
      "100/100 [==============================] - 11s 110ms/step - loss: 0.0318 - acc: 0.9900 - val_loss: 0.2754 - val_acc: 0.9370\n",
      "Epoch 87/100\n",
      "100/100 [==============================] - 11s 110ms/step - loss: 0.0175 - acc: 0.9915 - val_loss: 0.3001 - val_acc: 0.9410\n",
      "Epoch 88/100\n",
      "100/100 [==============================] - 11s 110ms/step - loss: 0.0146 - acc: 0.9965 - val_loss: 0.2994 - val_acc: 0.9400\n",
      "Epoch 89/100\n",
      "100/100 [==============================] - 11s 110ms/step - loss: 0.0301 - acc: 0.9885 - val_loss: 0.2898 - val_acc: 0.9340\n",
      "Epoch 90/100\n",
      "100/100 [==============================] - 11s 110ms/step - loss: 0.0164 - acc: 0.9940 - val_loss: 0.2684 - val_acc: 0.9420\n",
      "Epoch 91/100\n",
      "100/100 [==============================] - 11s 111ms/step - loss: 0.0233 - acc: 0.9920 - val_loss: 0.2922 - val_acc: 0.9410\n",
      "Epoch 92/100\n",
      "100/100 [==============================] - 11s 111ms/step - loss: 0.0206 - acc: 0.9935 - val_loss: 0.2717 - val_acc: 0.9410\n",
      "Epoch 93/100\n",
      "100/100 [==============================] - 11s 110ms/step - loss: 0.0219 - acc: 0.9925 - val_loss: 0.2947 - val_acc: 0.9350\n",
      "Epoch 94/100\n",
      "100/100 [==============================] - 11s 110ms/step - loss: 0.0194 - acc: 0.9945 - val_loss: 0.2494 - val_acc: 0.9440\n",
      "Epoch 95/100\n",
      "100/100 [==============================] - 11s 111ms/step - loss: 0.0222 - acc: 0.9925 - val_loss: 0.2454 - val_acc: 0.9450\n",
      "Epoch 96/100\n",
      "100/100 [==============================] - 11s 111ms/step - loss: 0.0252 - acc: 0.9945 - val_loss: 0.3432 - val_acc: 0.9300\n",
      "Epoch 97/100\n",
      "100/100 [==============================] - 11s 110ms/step - loss: 0.0214 - acc: 0.9930 - val_loss: 0.2693 - val_acc: 0.9340\n",
      "Epoch 98/100\n",
      "100/100 [==============================] - 11s 111ms/step - loss: 0.0137 - acc: 0.9970 - val_loss: 0.2812 - val_acc: 0.9380\n",
      "Epoch 99/100\n",
      "100/100 [==============================] - 11s 111ms/step - loss: 0.0194 - acc: 0.9955 - val_loss: 0.2766 - val_acc: 0.9420\n",
      "Epoch 100/100\n",
      "100/100 [==============================] - 11s 110ms/step - loss: 0.0206 - acc: 0.9930 - val_loss: 0.2445 - val_acc: 0.9440\n"
     ]
    }
   ],
   "source": [
    "model.compile(loss='binary_crossentropy',\n",
    "              optimizer=optimizers.RMSprop(lr=1e-5),\n",
    "              metrics=['acc'])\n",
    "\n",
    "history = model.fit_generator(\n",
    "      train_generator,\n",
    "      steps_per_epoch=100,\n",
    "      epochs=100,\n",
    "      validation_data=validation_generator,\n",
    "      validation_steps=50)"
   ]
  },
  {
   "cell_type": "code",
   "execution_count": 20,
   "metadata": {},
   "outputs": [],
   "source": [
    "model.save('cats_and_dogs_small_4.h5')"
   ]
  },
  {
   "cell_type": "markdown",
   "metadata": {},
   "source": [
    "Let's plot our results using the same plotting code as before:"
   ]
  },
  {
   "cell_type": "code",
   "execution_count": 21,
   "metadata": {},
   "outputs": [
    {
     "data": {
      "image/png": "[encoded data removed]",
      "text/plain": [
       "<Figure size 432x288 with 1 Axes>"
      ]
     },
     "metadata": {
      "needs_background": "light"
     },
     "output_type": "display_data"
    },
    {
     "data": {
      "image/png": "[encoded data removed]",
      "text/plain": [
       "<Figure size 432x288 with 1 Axes>"
      ]
     },
     "metadata": {
      "needs_background": "light"
     },
     "output_type": "display_data"
    }
   ],
   "source": [
    "acc = history.history['acc']\n",
    "val_acc = history.history['val_acc']\n",
    "loss = history.history['loss']\n",
    "val_loss = history.history['val_loss']\n",
    "\n",
    "epochs = range(len(acc))\n",
    "\n",
    "plt.plot(epochs, acc, 'bo', label='Training acc')\n",
    "plt.plot(epochs, val_acc, 'b', label='Validation acc')\n",
    "plt.title('Training and validation accuracy')\n",
    "plt.legend()\n",
    "\n",
    "plt.figure()\n",
    "\n",
    "plt.plot(epochs, loss, 'bo', label='Training loss')\n",
    "plt.plot(epochs, val_loss, 'b', label='Validation loss')\n",
    "plt.title('Training and validation loss')\n",
    "plt.legend()\n",
    "\n",
    "plt.show()"
   ]
  },
  {
   "cell_type": "markdown",
   "metadata": {},
   "source": [
    "\n",
    "These curves look very noisy. To make them more readable, we can smooth them by replacing every loss and accuracy with exponential moving \n",
    "averages of these quantities. Here's a trivial utility function to do this:"
   ]
  },
  {
   "cell_type": "code",
   "execution_count": 22,
   "metadata": {},
   "outputs": [
    {
     "data": {
      "image/png": "[encoded data removed]",
      "text/plain": [
       "<Figure size 432x288 with 1 Axes>"
      ]
     },
     "metadata": {
      "needs_background": "light"
     },
     "output_type": "display_data"
    },
    {
     "data": {
      "image/png": "[encoded data removed]",
      "text/plain": [
       "<Figure size 432x288 with 1 Axes>"
      ]
     },
     "metadata": {
      "needs_background": "light"
     },
     "output_type": "display_data"
    }
   ],
   "source": [
    "def smooth_curve(points, factor=0.8):\n",
    "  smoothed_points = []\n",
    "  for point in points:\n",
    "    if smoothed_points:\n",
    "      previous = smoothed_points[-1]\n",
    "      smoothed_points.append(previous * factor + point * (1 - factor))\n",
    "    else:\n",
    "      smoothed_points.append(point)\n",
    "  return smoothed_points\n",
    "\n",
    "plt.plot(epochs,\n",
    "         smooth_curve(acc), 'bo', label='Smoothed training acc')\n",
    "plt.plot(epochs,\n",
    "         smooth_curve(val_acc), 'b', label='Smoothed validation acc')\n",
    "plt.title('Training and validation accuracy')\n",
    "plt.legend()\n",
    "\n",
    "plt.figure()\n",
    "\n",
    "plt.plot(epochs,\n",
    "         smooth_curve(loss), 'bo', label='Smoothed training loss')\n",
    "plt.plot(epochs,\n",
    "         smooth_curve(val_loss), 'b', label='Smoothed validation loss')\n",
    "plt.title('Training and validation loss')\n",
    "plt.legend()\n",
    "\n",
    "plt.show()"
   ]
  },
  {
   "cell_type": "markdown",
   "metadata": {},
   "source": [
    "\n",
    "These curves look much cleaner and more stable. We are seeing a nice 1% absolute improvement.\n",
    "\n",
    "Note that the loss curve does not show any real improvement (in fact, it is deteriorating). You may wonder, how could accuracy improve if the \n",
    "loss isn't decreasing? The answer is simple: what we display is an average of pointwise loss values, but what actually matters for accuracy \n",
    "is the distribution of the loss values, not their average, since accuracy is the result of a binary thresholding of the class probability \n",
    "predicted by the model. The model may still be improving even if this isn't reflected in the average loss.\n",
    "\n",
    "We can now finally evaluate this model on the test data:"
   ]
  },
  {
   "cell_type": "code",
   "execution_count": 23,
   "metadata": {},
   "outputs": [
    {
     "name": "stdout",
     "output_type": "stream",
     "text": [
      "Found 1000 images belonging to 2 classes.\n",
      "test acc: 0.9399999940395355\n"
     ]
    }
   ],
   "source": [
    "test_generator = test_datagen.flow_from_directory(\n",
    "        test_dir,\n",
    "        target_size=(150, 150),\n",
    "        batch_size=20,\n",
    "        class_mode='binary')\n",
    "\n",
    "test_loss, test_acc = model.evaluate_generator(test_generator, steps=50)\n",
    "print('test acc:', test_acc)"
   ]
  },
  {
   "cell_type": "markdown",
   "metadata": {},
   "source": [
    "\n",
    "Here we get a test accuracy of 97%. In the original Kaggle competition around this dataset, this would have been one of the top results. \n",
    "However, using modern deep learning techniques, we managed to reach this result using only a very small fraction of the training data \n",
    "available (about 10%). There is a huge difference between being able to train on 20,000 samples compared to 2,000 samples!"
   ]
  },
  {
   "cell_type": "markdown",
   "metadata": {},
   "source": [
    "## Take-aways: using convnets with small datasets\n",
    "\n",
    "Here's what you should take away from the exercises of these past two sections:\n",
    "\n",
    "* Convnets are the best type of machine learning models for computer vision tasks. It is possible to train one from scratch even on a very \n",
    "small dataset, with decent results.\n",
    "* On a small dataset, overfitting will be the main issue. Data augmentation is a powerful way to fight overfitting when working with image \n",
    "data.\n",
    "* It is easy to reuse an existing convnet on a new dataset, via feature extraction. This is a very valuable technique for working with \n",
    "small image datasets.\n",
    "* As a complement to feature extraction, one may use fine-tuning, which adapts to a new problem some of the representations previously \n",
    "learned by an existing model. This pushes performance a bit further.\n",
    "\n",
    "Now you have a solid set of tools for dealing with image classification problems, in particular with small datasets."
   ]
  }
 ],
 "metadata": {
  "kernelspec": {
   "display_name": "Python 3",
   "language": "python",
   "name": "python3"
  },
  "language_info": {
   "codemirror_mode": {
    "name": "ipython",
    "version": 3
   },
   "file_extension": ".py",
   "mimetype": "text/x-python",
   "name": "python",
   "nbconvert_exporter": "python",
   "pygments_lexer": "ipython3",
   "version": "3.6.8"
  }
 },
 "nbformat": 4,
 "nbformat_minor": 2
}
